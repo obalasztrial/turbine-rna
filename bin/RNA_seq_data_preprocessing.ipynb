{
 "cells": [
  {
   "cell_type": "markdown",
   "id": "401ae8df-9069-4ca3-acfe-ec2b7d1d0b72",
   "metadata": {},
   "source": [
    "# Preprocessing part\n"
   ]
  },
  {
   "cell_type": "markdown",
   "id": "bf90ffb9-b1d6-4e1d-8705-d87e037eda16",
   "metadata": {},
   "source": [
    "The main goal of this notebook to preprocess the input fastq files\n",
    "### Input: \n",
    "   * directory where the fastq files are stored\n",
    "   \n",
    "### Outputs:\n",
    "  * quality control analysis using the fastqc\n",
    "  * summarized quality control provided by multiqc\n",
    "\n",
    "### Reuqrements:\n",
    "  * fastq, multiqc, trimmomatic\n",
    "  * turbine_lib.py (it contains some support functions)\n",
    "  * input data, project directories\n",
    "  * inputs here assumed to be single reads\n",
    "  * the optimaized preprocessing parameters (assses after the QC step)\n",
    "  \n",
    "\n",
    "\n",
    "### Assumptions and notes\n",
    "  * the proper paths and project data should setted before the run\n",
    "  * The proper preprocessing paramaters for the trimmomatic should set based on the QC results of the raw data\n"
   ]
  },
  {
   "cell_type": "code",
   "execution_count": 28,
   "id": "91d28fb1-0933-417b-a442-eacf435ebfe1",
   "metadata": {},
   "outputs": [
    {
     "name": "stdout",
     "output_type": "stream",
     "text": [
      "The autoreload extension is already loaded. To reload it, use:\n",
      "  %reload_ext autoreload\n"
     ]
    }
   ],
   "source": [
    "#seting up envirement\n",
    "import os\n",
    "\n",
    "import seaborn as sns; sns.set()\n",
    "import math\n",
    "import os\n",
    "import sys\n",
    "import pandas as pd\n",
    "import matplotlib.pyplot as plt\n",
    "from multiprocessing import Pool\n",
    "from os.path import join, isfile, splitext\n",
    "from scipy.stats.mstats import gmean\n",
    "from os import listdir\n",
    "from IPython.core.interactiveshell import InteractiveShell\n",
    "InteractiveShell.ast_node_interactivity = \"all\"\n",
    "import random\n",
    "from turbine_lib import *\n",
    "import multiprocessing\n",
    "\n",
    "%load_ext autoreload\n",
    "%autoreload 2\n",
    "\n",
    "# Input\n",
    "base_path = '/home/ligeti/gitrepos/turbine-rnaseq-ligeti'\n",
    "data_source_dir = join(base_path, 'data', 'raw_data')\n",
    "\n",
    "\n",
    "# Inputs, parameters\n",
    "trimmomatic_path = 'trimmomatic'\n",
    "trimmomatic_adapter_bpath = join(base_path,'data', 'adapters')\n",
    "trimmomatic_adapter_path = join(trimmomatic_adapter_bpath, 'TruSeq2-SE.fa')\n",
    "trimmomatic_parameters = 'ILLUMINACLIP:{0}:2:30:10:2 SLIDINGWINDOW:5:25 MINLEN:30 HEADCROP:12'.format(trimmomatic_adapter_path)\n",
    "\n",
    "\n",
    "# Outputs\n",
    "results_path = join(base_path, 'results')\n",
    "quality_control_output = join(results_path, 'raw_qc/')\n",
    "quality_control_summary_output = join(results_path, 'raw_multiqc/')\n",
    "trimmed_quality_control_output = join(results_path, 'trimmed_qc/')\n",
    "trimmed_quality_control_summary_output = join(results_path, 'trimmed_multiqc/')\n",
    "\n",
    "# trimming\n",
    "trimmed_path = join(results_path, 'trimmed_files/')\n",
    "\n",
    "# Other paramaters\n",
    "# Core counts\n",
    "number_of_threads = multiprocessing.cpu_count()"
   ]
  },
  {
   "cell_type": "code",
   "execution_count": 2,
   "id": "65a6d82c-567e-4b22-857f-ed69c0ad0f29",
   "metadata": {},
   "outputs": [],
   "source": [
    "# Creating project directory structure\n",
    "\n",
    "if not os.path.exists(results_path):\n",
    "    os.makedirs(results_path)\n",
    "if not os.path.exists(quality_control_output):\n",
    "    os.makedirs(quality_control_output)\n",
    "if not os.path.exists(quality_control_summary_output):\n",
    "    os.makedirs(quality_control_summary_output)    \n",
    "if not os.path.exists(trimmed_path):\n",
    "    os.makedirs(trimmed_path)    \n",
    "if not os.path.exists(trimmed_quality_control_output):\n",
    "    os.makedirs(trimmed_quality_control_output)\n",
    "if not os.path.exists(trimmed_quality_control_summary_output):\n",
    "    os.makedirs(trimmed_quality_control_summary_output)\n"
   ]
  },
  {
   "cell_type": "markdown",
   "id": "a5ab1a4d-c8d3-42f4-84e1-ef3d9faf6115",
   "metadata": {},
   "source": [
    "# Running QC with fastqc and multiQC\n"
   ]
  },
  {
   "cell_type": "code",
   "execution_count": 3,
   "id": "0effd9fa-8316-46a1-8af8-c3b1da7a1616",
   "metadata": {
    "collapsed": true,
    "jupyter": {
     "outputs_hidden": true
    },
    "tags": []
   },
   "outputs": [
    {
     "name": "stdout",
     "output_type": "stream",
     "text": [
      "Running raw fastqc: fastqc --outdir /home/ligeti/gitrepos/turbine-rnaseq-ligeti/results/raw_qc/      -t 12      /home/ligeti/gitrepos/turbine-rnaseq-ligeti/data/raw_data/*fastq     \n"
     ]
    },
    {
     "name": "stderr",
     "output_type": "stream",
     "text": [
      "Started analysis of sum159_dmso1.fastq\n",
      "Started analysis of sum159_dmso2.fastq\n",
      "Started analysis of sum159_jq1.fastq\n",
      "Started analysis of sum159_jq2.fastq\n",
      "Approx 5% complete for sum159_dmso1.fastq\n",
      "Approx 5% complete for sum159_dmso2.fastq\n",
      "Approx 5% complete for sum159_jq1.fastq\n",
      "Approx 5% complete for sum159_jq2.fastq\n",
      "Approx 10% complete for sum159_dmso1.fastq\n",
      "Approx 10% complete for sum159_dmso2.fastq\n",
      "Approx 10% complete for sum159_jq1.fastq\n",
      "Approx 10% complete for sum159_jq2.fastq\n",
      "Approx 15% complete for sum159_dmso1.fastq\n",
      "Approx 15% complete for sum159_dmso2.fastq\n",
      "Approx 15% complete for sum159_jq1.fastq\n",
      "Approx 15% complete for sum159_jq2.fastq\n",
      "Approx 20% complete for sum159_dmso1.fastq\n",
      "Approx 20% complete for sum159_dmso2.fastq\n",
      "Approx 20% complete for sum159_jq1.fastq\n",
      "Approx 20% complete for sum159_jq2.fastq\n",
      "Approx 25% complete for sum159_dmso1.fastq\n",
      "Approx 25% complete for sum159_dmso2.fastq\n",
      "Approx 25% complete for sum159_jq1.fastq\n",
      "Approx 25% complete for sum159_jq2.fastq\n",
      "Approx 30% complete for sum159_dmso1.fastq\n",
      "Approx 30% complete for sum159_dmso2.fastq\n",
      "Approx 30% complete for sum159_jq1.fastq\n",
      "Approx 30% complete for sum159_jq2.fastq\n",
      "Approx 35% complete for sum159_dmso1.fastq\n",
      "Approx 35% complete for sum159_dmso2.fastq\n",
      "Approx 35% complete for sum159_jq1.fastq\n",
      "Approx 35% complete for sum159_jq2.fastq\n",
      "Approx 40% complete for sum159_dmso1.fastq\n",
      "Approx 40% complete for sum159_dmso2.fastq\n",
      "Approx 40% complete for sum159_jq1.fastq\n",
      "Approx 40% complete for sum159_jq2.fastq\n",
      "Approx 45% complete for sum159_dmso1.fastq\n",
      "Approx 45% complete for sum159_dmso2.fastq\n",
      "Approx 45% complete for sum159_jq1.fastq\n",
      "Approx 45% complete for sum159_jq2.fastq\n",
      "Approx 50% complete for sum159_dmso1.fastq\n",
      "Approx 50% complete for sum159_dmso2.fastq\n",
      "Approx 50% complete for sum159_jq1.fastq\n",
      "Approx 50% complete for sum159_jq2.fastq\n",
      "Approx 55% complete for sum159_dmso1.fastq\n",
      "Approx 55% complete for sum159_dmso2.fastq\n",
      "Approx 55% complete for sum159_jq1.fastq\n",
      "Approx 55% complete for sum159_jq2.fastq\n",
      "Approx 60% complete for sum159_dmso1.fastq\n",
      "Approx 60% complete for sum159_dmso2.fastq\n",
      "Approx 60% complete for sum159_jq1.fastq\n",
      "Approx 60% complete for sum159_jq2.fastq\n",
      "Approx 65% complete for sum159_dmso1.fastq\n",
      "Approx 65% complete for sum159_dmso2.fastq\n",
      "Approx 65% complete for sum159_jq1.fastq\n",
      "Approx 65% complete for sum159_jq2.fastq\n",
      "Approx 70% complete for sum159_dmso1.fastq\n",
      "Approx 70% complete for sum159_dmso2.fastq\n",
      "Approx 70% complete for sum159_jq1.fastq\n",
      "Approx 70% complete for sum159_jq2.fastq\n",
      "Approx 75% complete for sum159_dmso1.fastq\n",
      "Approx 75% complete for sum159_dmso2.fastq\n",
      "Approx 75% complete for sum159_jq1.fastq\n",
      "Approx 75% complete for sum159_jq2.fastq\n",
      "Approx 80% complete for sum159_dmso1.fastq\n",
      "Approx 80% complete for sum159_dmso2.fastq\n",
      "Approx 80% complete for sum159_jq1.fastq\n",
      "Approx 80% complete for sum159_jq2.fastq\n",
      "Approx 85% complete for sum159_dmso1.fastq\n",
      "Approx 85% complete for sum159_dmso2.fastq\n",
      "Approx 85% complete for sum159_jq1.fastq\n",
      "Approx 85% complete for sum159_jq2.fastq\n",
      "Approx 90% complete for sum159_dmso1.fastq\n",
      "Approx 90% complete for sum159_dmso2.fastq\n",
      "Approx 90% complete for sum159_jq1.fastq\n",
      "Approx 90% complete for sum159_jq2.fastq\n",
      "Approx 95% complete for sum159_dmso1.fastq\n",
      "Approx 95% complete for sum159_dmso2.fastq\n",
      "Approx 95% complete for sum159_jq1.fastq\n",
      "Approx 95% complete for sum159_jq2.fastq\n",
      "Approx 100% complete for sum159_dmso1.fastq\n"
     ]
    },
    {
     "name": "stdout",
     "output_type": "stream",
     "text": [
      "Analysis complete for sum159_dmso1.fastq\n"
     ]
    },
    {
     "name": "stderr",
     "output_type": "stream",
     "text": [
      "Approx 100% complete for sum159_jq1.fastq\n",
      "Approx 100% complete for sum159_dmso2.fastq\n"
     ]
    },
    {
     "name": "stdout",
     "output_type": "stream",
     "text": [
      "Analysis complete for sum159_jq1.fastq\n",
      "Analysis complete for sum159_dmso2.fastq\n"
     ]
    },
    {
     "name": "stderr",
     "output_type": "stream",
     "text": [
      "Approx 100% complete for sum159_jq2.fastq\n"
     ]
    },
    {
     "name": "stdout",
     "output_type": "stream",
     "text": [
      "Analysis complete for sum159_jq2.fastq\n",
      "Running raw multiqc: multiqc -f --interactive  --outdir /home/ligeti/gitrepos/turbine-rnaseq-ligeti/results/raw_multiqc/     /home/ligeti/gitrepos/turbine-rnaseq-ligeti/results/raw_qc/*     \n"
     ]
    },
    {
     "name": "stderr",
     "output_type": "stream",
     "text": [
      "\n",
      "  /// MultiQC 🔍 | v1.12\n",
      "\n",
      "|           multiqc | Search path : /home/ligeti/gitrepos/turbine-rnaseq-ligeti/results/raw_qc/sum159_dmso1_fastqc.html\n",
      "|           multiqc | Search path : /home/ligeti/gitrepos/turbine-rnaseq-ligeti/results/raw_qc/sum159_dmso1_fastqc.zip\n",
      "|           multiqc | Search path : /home/ligeti/gitrepos/turbine-rnaseq-ligeti/results/raw_qc/sum159_dmso2_fastqc.html\n",
      "|           multiqc | Search path : /home/ligeti/gitrepos/turbine-rnaseq-ligeti/results/raw_qc/sum159_dmso2_fastqc.zip\n",
      "|           multiqc | Search path : /home/ligeti/gitrepos/turbine-rnaseq-ligeti/results/raw_qc/sum159_jq1_fastqc.html\n",
      "|           multiqc | Search path : /home/ligeti/gitrepos/turbine-rnaseq-ligeti/results/raw_qc/sum159_jq1_fastqc.zip\n",
      "|           multiqc | Search path : /home/ligeti/gitrepos/turbine-rnaseq-ligeti/results/raw_qc/sum159_jq2_fastqc.html\n",
      "|           multiqc | Search path : /home/ligeti/gitrepos/turbine-rnaseq-ligeti/results/raw_qc/sum159_jq2_fastqc.zip\n"
     ]
    },
    {
     "name": "stdout",
     "output_type": "stream",
     "text": [
      "|         searching | ━━━━━━━━━━━━━━━━━━━━━━━━━━━━━━━━━━━━━━━━ 100% 8/8  \n"
     ]
    },
    {
     "name": "stderr",
     "output_type": "stream",
     "text": [
      "|            fastqc | Found 4 reports\n",
      "|           multiqc | Compressing plot data\n",
      "|           multiqc | Deleting    : ../results/raw_multiqc/multiqc_report.html   (-f was specified)\n",
      "|           multiqc | Deleting    : ../results/raw_multiqc/multiqc_data   (-f was specified)\n",
      "|           multiqc | Report      : ../results/raw_multiqc/multiqc_report.html\n",
      "|           multiqc | Data        : ../results/raw_multiqc/multiqc_data\n",
      "|           multiqc | MultiQC complete\n"
     ]
    }
   ],
   "source": [
    "run_qc(data_source_dir, quality_control_output, quality_control_summary_output, default_fastq_ext='fastq', threads=number_of_threads)\n"
   ]
  },
  {
   "cell_type": "code",
   "execution_count": 20,
   "id": "4ee7c594-ed3e-4bbe-8b61-0909a6cab7bf",
   "metadata": {
    "tags": []
   },
   "outputs": [
    {
     "data": {
      "text/html": [
       "<h1>QC summary:</h1> <a href=\"https://localhost:8888/files//home/ligeti/gitrepos/turbine-rnaseq-ligeti/results/raw_multiqc//multiqc_report.html\"> MultiQC results </a> <p> (For details visit the documentation of multiQC <a href=\"https://multiqc.info\"> https://multiqc.info </a>) </p> <br><br>"
      ],
      "text/plain": [
       "<IPython.core.display.HTML object>"
      ]
     },
     "metadata": {},
     "output_type": "display_data"
    }
   ],
   "source": [
    " # Generating links to the results\n",
    "multi_qc_results_link = '<h1>QC summary:</h1> <a href=\"https://localhost:8888/files/{0}/multiqc_report.html\"> {1} </a> \\\n",
    " <p> (For details visit the documentation of multiQC <a href=\"https://multiqc.info\"> https://multiqc.info </a>) </p> <br><br>\\\n",
    " '.format(quality_control_summary_output,'MultiQC results')\n",
    "display(HTML(multi_qc_results_link))\n"
   ]
  },
  {
   "cell_type": "markdown",
   "id": "ad043e66-ee66-4f6a-9488-b61f224b4e0a",
   "metadata": {},
   "source": [
    "# Preprocessing with trimmomatic\n",
    "Trimmomatic will be used for preprocessing the reads. For the specified parameters, see the input parameters cell.\n",
    "Trimmomatic provides various options for cleaning the raw sequencing reads. It detects and filters the adapter sequences, it can crop the begninng and the end of the sequences. Here we cut the raw reads if the average qulaity score drops under 25 in a windows size of 5. Short sequences lengt < 30will be discarded.\n"
   ]
  },
  {
   "cell_type": "code",
   "execution_count": 16,
   "id": "02d7a757-4291-405a-9eea-3d3a017d5d26",
   "metadata": {
    "collapsed": true,
    "jupyter": {
     "outputs_hidden": true
    },
    "tags": []
   },
   "outputs": [
    {
     "name": "stderr",
     "output_type": "stream",
     "text": [
      "TrimmomaticSE: Started with arguments:\n",
      " /home/ligeti/gitrepos/turbine-rnaseq-ligeti/data/raw_data/sum159_jq1.fastq /home/ligeti/gitrepos/turbine-rnaseq-ligeti/results/trimmed_files/sum159_jq1.trimmed.fastq ILLUMINACLIP:/home/ligeti/gitrepos/turbine-rnaseq-ligeti/data/adapters/TruSeq2-SE.fa:2:30:10:2 SLIDINGWINDOW:5:25 MINLEN:30 HEADCROP:12\n",
      "Automatically using 1 threads\n",
      "TrimmomaticSE: Started with arguments:\n",
      "TrimmomaticSE: Started with arguments: /home/ligeti/gitrepos/turbine-rnaseq-ligeti/data/raw_data/sum159_jq2.fastqTrimmomaticSE: Started with arguments:\n",
      " /home/ligeti/gitrepos/turbine-rnaseq-ligeti/results/trimmed_files/sum159_jq2.trimmed.fastq ILLUMINACLIP:/home/ligeti/gitrepos/turbine-rnaseq-ligeti/data/adapters/TruSeq2-SE.fa:2:30:10:2\n",
      " SLIDINGWINDOW:5:25 /home/ligeti/gitrepos/turbine-rnaseq-ligeti/data/raw_data/sum159_dmso2.fastq MINLEN:30 HEADCROP:12 /home/ligeti/gitrepos/turbine-rnaseq-ligeti/results/trimmed_files/sum159_dmso2.trimmed.fastq\n",
      " ILLUMINACLIP:/home/ligeti/gitrepos/turbine-rnaseq-ligeti/data/adapters/TruSeq2-SE.fa:2:30:10:2 SLIDINGWINDOW:5:25 /home/ligeti/gitrepos/turbine-rnaseq-ligeti/data/raw_data/sum159_dmso1.fastq MINLEN:30 HEADCROP:12\n",
      "Automatically using 1 threads /home/ligeti/gitrepos/turbine-rnaseq-ligeti/results/trimmed_files/sum159_dmso1.trimmed.fastq\n",
      " ILLUMINACLIP:/home/ligeti/gitrepos/turbine-rnaseq-ligeti/data/adapters/TruSeq2-SE.fa:2:30:10:2 SLIDINGWINDOW:5:25Automatically using 1 threads\n",
      " MINLEN:30 HEADCROP:12\n",
      "Automatically using 1 threads\n",
      "Using Long Clipping Sequence: 'AGATCGGAAGAGCGGTTCAGCAGGAATGCCGAG'\n",
      "Using Long Clipping Sequence: 'AGATCGGAAGAGCGTCGTGTAGGGAAAGAGTGT'\n",
      "Using Long Clipping Sequence: 'AGATCGGAAGAGCTCGTATGCCGTCTTCTGCTTG'\n",
      "ILLUMINACLIP: Using 0 prefix pairs, 3 forward/reverse sequences, 0 forward only sequences, 0 reverse only sequences\n",
      "Using Long Clipping Sequence: 'AGATCGGAAGAGCGGTTCAGCAGGAATGCCGAG'\n",
      "Using Long Clipping Sequence: 'AGATCGGAAGAGCGTCGTGTAGGGAAAGAGTGT'\n",
      "Using Long Clipping Sequence: 'AGATCGGAAGAGCTCGTATGCCGTCTTCTGCTTG'\n",
      "ILLUMINACLIP: Using 0 prefix pairs, 3 forward/reverse sequences, 0 forward only sequences, 0 reverse only sequences\n",
      "Using Long Clipping Sequence: 'AGATCGGAAGAGCGGTTCAGCAGGAATGCCGAG'\n",
      "Using Long Clipping Sequence: 'AGATCGGAAGAGCGGTTCAGCAGGAATGCCGAG'\n",
      "Using Long Clipping Sequence: 'AGATCGGAAGAGCGTCGTGTAGGGAAAGAGTGT'\n",
      "Using Long Clipping Sequence: 'AGATCGGAAGAGCTCGTATGCCGTCTTCTGCTTG'\n",
      "Using Long Clipping Sequence: 'AGATCGGAAGAGCGTCGTGTAGGGAAAGAGTGT'\n",
      "Using Long Clipping Sequence: 'AGATCGGAAGAGCTCGTATGCCGTCTTCTGCTTG'\n",
      "ILLUMINACLIP: Using 0 prefix pairs, 3 forward/reverse sequences, 0 forward only sequences, 0 reverse only sequences\n",
      "ILLUMINACLIP: Using 0 prefix pairs, 3 forward/reverse sequences, 0 forward only sequences, 0 reverse only sequences\n",
      "Quality encoding detected as phred33\n",
      "Quality encoding detected as phred33\n",
      "Quality encoding detected as phred33\n",
      "Quality encoding detected as phred33\n",
      "Input Reads: 5000000 Surviving: 4762592 (95.25%) Dropped: 237408 (4.75%)\n",
      "Input Reads: 5000000 Surviving: 4800080 (96.00%) Dropped: 199920 (4.00%)\n",
      "Input Reads: 5000000 Surviving: 4840697 (96.81%) Dropped: 159303 (3.19%)\n",
      "Input Reads: 5000000 Surviving: 4667232 (93.34%) Dropped: 332768 (6.66%)\n",
      "TrimmomaticSE: Completed successfully\n",
      "TrimmomaticSE: Completed successfully\n",
      "TrimmomaticSE: Completed successfully\n",
      "TrimmomaticSE: Completed successfully\n"
     ]
    },
    {
     "data": {
      "text/plain": [
       "[0, 0, 0, 0]"
      ]
     },
     "execution_count": 16,
     "metadata": {},
     "output_type": "execute_result"
    }
   ],
   "source": [
    "prefix_to_pair = get_illumina_pairs(data_source_dir)\n",
    "trim_cmds = [get_trimmomatic_cmd_default(trimmed_path, fastq_files, trimmomatic_path, trimmomatic_parameters) for act_sample, fastq_files in prefix_to_pair.items()]\n",
    "with  Pool(number_of_threads) as p:\n",
    "    p.map(os.system, trim_cmds)\n"
   ]
  },
  {
   "cell_type": "code",
   "execution_count": 63,
   "id": "9f64b3ad-b5fa-4a1b-96a1-6767cddc2eef",
   "metadata": {
    "collapsed": true,
    "jupyter": {
     "outputs_hidden": true
    },
    "tags": []
   },
   "outputs": [
    {
     "name": "stdout",
     "output_type": "stream",
     "text": [
      "Running raw fastqc: fastqc --outdir /home/ligeti/gitrepos/turbine-rnaseq-ligeti/results/trimmed_qc/      -t 20      /home/ligeti/gitrepos/turbine-rnaseq-ligeti/results/trimmed_files/*fastq     \n"
     ]
    },
    {
     "name": "stderr",
     "output_type": "stream",
     "text": [
      "Started analysis of sum159_dmso1.trimmed.fastq\n",
      "Started analysis of sum159_dmso2.trimmed.fastq\n",
      "Started analysis of sum159_jq1.trimmed.fastq\n",
      "Started analysis of sum159_jq2.trimmed.fastq\n",
      "Approx 5% complete for sum159_dmso1.trimmed.fastq\n",
      "Approx 5% complete for sum159_dmso2.trimmed.fastq\n",
      "Approx 5% complete for sum159_jq1.trimmed.fastq\n",
      "Approx 10% complete for sum159_dmso1.trimmed.fastq\n",
      "Approx 5% complete for sum159_jq2.trimmed.fastq\n",
      "Approx 10% complete for sum159_dmso2.trimmed.fastq\n",
      "Approx 10% complete for sum159_jq1.trimmed.fastq\n",
      "Approx 15% complete for sum159_dmso1.trimmed.fastq\n",
      "Approx 10% complete for sum159_jq2.trimmed.fastq\n",
      "Approx 15% complete for sum159_dmso2.trimmed.fastq\n",
      "Approx 15% complete for sum159_jq1.trimmed.fastq\n",
      "Approx 20% complete for sum159_dmso1.trimmed.fastq\n",
      "Approx 15% complete for sum159_jq2.trimmed.fastq\n",
      "Approx 20% complete for sum159_dmso2.trimmed.fastq\n",
      "Approx 20% complete for sum159_jq1.trimmed.fastq\n",
      "Approx 20% complete for sum159_jq2.trimmed.fastq\n",
      "Approx 25% complete for sum159_dmso1.trimmed.fastq\n",
      "Approx 25% complete for sum159_dmso2.trimmed.fastq\n",
      "Approx 25% complete for sum159_jq1.trimmed.fastq\n",
      "Approx 25% complete for sum159_jq2.trimmed.fastq\n",
      "Approx 30% complete for sum159_dmso1.trimmed.fastq\n",
      "Approx 30% complete for sum159_dmso2.trimmed.fastq\n",
      "Approx 30% complete for sum159_jq1.trimmed.fastq\n",
      "Approx 30% complete for sum159_jq2.trimmed.fastq\n",
      "Approx 35% complete for sum159_dmso1.trimmed.fastq\n",
      "Approx 35% complete for sum159_dmso2.trimmed.fastq\n",
      "Approx 35% complete for sum159_jq1.trimmed.fastq\n",
      "Approx 35% complete for sum159_jq2.trimmed.fastq\n",
      "Approx 40% complete for sum159_dmso1.trimmed.fastq\n",
      "Approx 40% complete for sum159_dmso2.trimmed.fastq\n",
      "Approx 40% complete for sum159_jq1.trimmed.fastq\n",
      "Approx 40% complete for sum159_jq2.trimmed.fastq\n",
      "Approx 45% complete for sum159_dmso1.trimmed.fastq\n",
      "Approx 45% complete for sum159_dmso2.trimmed.fastq\n",
      "Approx 45% complete for sum159_jq1.trimmed.fastq\n",
      "Approx 45% complete for sum159_jq2.trimmed.fastq\n",
      "Approx 50% complete for sum159_dmso1.trimmed.fastq\n",
      "Approx 50% complete for sum159_dmso2.trimmed.fastq\n",
      "Approx 50% complete for sum159_jq1.trimmed.fastq\n",
      "Approx 50% complete for sum159_jq2.trimmed.fastq\n",
      "Approx 55% complete for sum159_dmso2.trimmed.fastq\n",
      "Approx 55% complete for sum159_dmso1.trimmed.fastq\n",
      "Approx 55% complete for sum159_jq1.trimmed.fastq\n",
      "Approx 55% complete for sum159_jq2.trimmed.fastq\n",
      "Approx 60% complete for sum159_dmso1.trimmed.fastq\n",
      "Approx 60% complete for sum159_dmso2.trimmed.fastq\n",
      "Approx 60% complete for sum159_jq1.trimmed.fastq\n",
      "Approx 60% complete for sum159_jq2.trimmed.fastq\n",
      "Approx 65% complete for sum159_dmso1.trimmed.fastq\n",
      "Approx 65% complete for sum159_dmso2.trimmed.fastq\n",
      "Approx 65% complete for sum159_jq1.trimmed.fastq\n",
      "Approx 65% complete for sum159_jq2.trimmed.fastq\n",
      "Approx 70% complete for sum159_dmso1.trimmed.fastq\n",
      "Approx 70% complete for sum159_dmso2.trimmed.fastq\n",
      "Approx 70% complete for sum159_jq1.trimmed.fastq\n",
      "Approx 70% complete for sum159_jq2.trimmed.fastq\n",
      "Approx 75% complete for sum159_dmso1.trimmed.fastq\n",
      "Approx 75% complete for sum159_dmso2.trimmed.fastq\n",
      "Approx 75% complete for sum159_jq1.trimmed.fastq\n",
      "Approx 75% complete for sum159_jq2.trimmed.fastq\n",
      "Approx 80% complete for sum159_dmso1.trimmed.fastq\n",
      "Approx 80% complete for sum159_dmso2.trimmed.fastq\n",
      "Approx 80% complete for sum159_jq1.trimmed.fastq\n",
      "Approx 80% complete for sum159_jq2.trimmed.fastq\n",
      "Approx 85% complete for sum159_dmso1.trimmed.fastq\n",
      "Approx 85% complete for sum159_dmso2.trimmed.fastq\n",
      "Approx 85% complete for sum159_jq1.trimmed.fastq\n",
      "Approx 85% complete for sum159_jq2.trimmed.fastq\n",
      "Approx 90% complete for sum159_dmso1.trimmed.fastq\n",
      "Approx 90% complete for sum159_dmso2.trimmed.fastq\n",
      "Approx 90% complete for sum159_jq1.trimmed.fastq\n",
      "Approx 95% complete for sum159_dmso1.trimmed.fastq\n",
      "Approx 90% complete for sum159_jq2.trimmed.fastq\n",
      "Approx 95% complete for sum159_dmso2.trimmed.fastq\n",
      "Approx 95% complete for sum159_jq1.trimmed.fastq\n",
      "Approx 95% complete for sum159_jq2.trimmed.fastq\n"
     ]
    },
    {
     "name": "stdout",
     "output_type": "stream",
     "text": [
      "Analysis complete for sum159_dmso1.trimmed.fastq\n",
      "Analysis complete for sum159_jq2.trimmed.fastq\n",
      "Analysis complete for sum159_jq1.trimmed.fastq\n",
      "Analysis complete for sum159_dmso2.trimmed.fastq\n",
      "Running raw multiqc: multiqc -f --interactive  --outdir /home/ligeti/gitrepos/turbine-rnaseq-ligeti/results/trimmed_multiqc/     /home/ligeti/gitrepos/turbine-rnaseq-ligeti/results/trimmed_qc/*     \n"
     ]
    },
    {
     "name": "stderr",
     "output_type": "stream",
     "text": [
      "\n",
      "  /// MultiQC 🔍 | v1.12\n",
      "\n",
      "|           multiqc | Search path : /home/ligeti/gitrepos/turbine-rnaseq-ligeti/results/trimmed_qc/sum159_dmso1.trimmed_fastqc.html\n",
      "|           multiqc | Search path : /home/ligeti/gitrepos/turbine-rnaseq-ligeti/results/trimmed_qc/sum159_dmso1.trimmed_fastqc.zip\n",
      "|           multiqc | Search path : /home/ligeti/gitrepos/turbine-rnaseq-ligeti/results/trimmed_qc/sum159_dmso2.trimmed_fastqc.html\n",
      "|           multiqc | Search path : /home/ligeti/gitrepos/turbine-rnaseq-ligeti/results/trimmed_qc/sum159_dmso2.trimmed_fastqc.zip\n",
      "|           multiqc | Search path : /home/ligeti/gitrepos/turbine-rnaseq-ligeti/results/trimmed_qc/sum159_jq1.trimmed_fastqc.html\n",
      "|           multiqc | Search path : /home/ligeti/gitrepos/turbine-rnaseq-ligeti/results/trimmed_qc/sum159_jq1.trimmed_fastqc.zip\n",
      "|           multiqc | Search path : /home/ligeti/gitrepos/turbine-rnaseq-ligeti/results/trimmed_qc/sum159_jq2.trimmed_fastqc.html\n",
      "|           multiqc | Search path : /home/ligeti/gitrepos/turbine-rnaseq-ligeti/results/trimmed_qc/sum159_jq2.trimmed_fastqc.zip\n"
     ]
    },
    {
     "name": "stdout",
     "output_type": "stream",
     "text": [
      "|         searching | ━━━━━━━━━━━━━━━━━━━━━━━━━━━━━━━━━━━━━━━━ 100% 8/8  \n"
     ]
    },
    {
     "name": "stderr",
     "output_type": "stream",
     "text": [
      "|            fastqc | Found 4 reports\n",
      "|           multiqc | Compressing plot data\n",
      "|           multiqc | Deleting    : ../results/trimmed_multiqc/multiqc_report.html   (-f was specified)\n",
      "|           multiqc | Deleting    : ../results/trimmed_multiqc/multiqc_data   (-f was specified)\n",
      "|           multiqc | Report      : ../results/trimmed_multiqc/multiqc_report.html\n",
      "|           multiqc | Data        : ../results/trimmed_multiqc/multiqc_data\n",
      "|           multiqc | MultiQC complete\n"
     ]
    }
   ],
   "source": [
    "# running QC on filtered data\n",
    "run_qc(trimmed_path, trimmed_quality_control_output, trimmed_quality_control_summary_output, default_fastq_ext='fastq')\n",
    "trimmed_qc_table = get_qc_html_table(trimmed_quality_control_output)\n"
   ]
  },
  {
   "cell_type": "code",
   "execution_count": 22,
   "id": "37c9014d-8154-45ef-8401-408b98d92311",
   "metadata": {},
   "outputs": [
    {
     "data": {
      "text/html": [
       "<h1>QC summary:</h1> <a href=\"http://localhost:8888/files/gitrepos/turbine-rnaseq-ligeti/results/trimmed_multiqc//multiqc_report.html\"> MultiQC results </a>  <p> (For details visit the documentation of multiQC <a href=\"https://multiqc.info\"> https://multiqc.info </a>) </p> <br><br> "
      ],
      "text/plain": [
       "<IPython.core.display.HTML object>"
      ]
     },
     "metadata": {},
     "output_type": "display_data"
    }
   ],
   "source": [
    "multi_qc_results_link = '<h1>QC summary:</h1> <a href=\"http://{2}/files/{0}/multiqc_report.html\"> {1} </a> \\\n",
    " <p> (For details visit the documentation of multiQC <a href=\"https://multiqc.info\"> https://multiqc.info </a>) </p> <br><br>\\\n",
    " '.format('gitrepos/turbine-rnaseq-ligeti/results/trimmed_multiqc/','MultiQC results', 'localhost:8888')\n",
    "display(HTML(multi_qc_results_link))"
   ]
  },
  {
   "cell_type": "code",
   "execution_count": null,
   "id": "7a15bd11-e50d-4970-9faf-d2d5d80cc36d",
   "metadata": {},
   "outputs": [],
   "source": []
  }
 ],
 "metadata": {
  "kernelspec": {
   "display_name": "Python 3 (ipykernel)",
   "language": "python",
   "name": "python3"
  },
  "language_info": {
   "codemirror_mode": {
    "name": "ipython",
    "version": 3
   },
   "file_extension": ".py",
   "mimetype": "text/x-python",
   "name": "python",
   "nbconvert_exporter": "python",
   "pygments_lexer": "ipython3",
   "version": "3.9.12"
  }
 },
 "nbformat": 4,
 "nbformat_minor": 5
}
