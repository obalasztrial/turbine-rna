{
 "cells": [
  {
   "cell_type": "markdown",
   "id": "63499b93-1a6d-40ad-a77e-f3f4fb6d1b97",
   "metadata": {},
   "source": [
    "# Comparing DMSO and JQ1 treatments with DESeq2\n",
    "\n",
    "Important notes:\n",
    "  * here we are using the output of salmon\n",
    "  * GRCh38 was used as reference genome, retrieved from the ensemble's site on 11/06/2022\n",
    "  * The rna reference index contains non-coding rna-s as well (for more on the salmon and the parameters see the seq_processing notebook)\n",
    "  * The applied experiment design was a simple case-vs-control (JQ1 vs DMSO). Note, however, that the original experiment design is more complex (with extra dimensions) (multiple time-points and resistent vs. non-resistent cell-lines). \n",
    "  * Important note: current data contains technical replicates, they should be 'collapsed' or one should directly encode this information into the underlying statistical model. For the sake of the demonstration I kept the original scenario. \n",
    "  * The gene annotation has a significant effect on the outputs which should be investigated carefully. Here I applied a pre-compiled annotation mapping.\n",
    "\n",
    "\n",
    "## Inputs:\n",
    "  * salmon outputs (quant.sf) files (pseudo counts, estimated TPM values)\n",
    " \n",
    "## Outputs:\n",
    "  * normalized count data\n",
    "  * PCA plot for comparing the samples\n",
    "  * dispersion plot (visualizing count structure)\n",
    "  * Differential expressed genes table: statistical analysis (significantly DE genes, p-value correction)\n",
    "  * Clustered heatmaps \n",
    "  * Gene set enrichment analyis (significantly affected KEGG pathways)\n",
    "  * Other functional analysis (GO categories, basic pathways)\n",
    "  \n"
   ]
  },
  {
   "cell_type": "code",
   "execution_count": null,
   "id": "78105231-16bb-41db-9ca8-6aeaca42ac81",
   "metadata": {
    "tags": []
   },
   "outputs": [],
   "source": [
    "## Display params:\n",
    "options(repr.plot.width=10, repr.plot.height=10)\n",
    "\n",
    "\n",
    "## Loading libraries\n",
    "library(DESeq2)\n",
    "library(tidyverse)\n",
    "library(RColorBrewer)\n",
    "library(pheatmap)\n",
    "library(DEGreport)\n",
    "library(tximport)\n",
    "library(ggplot2)\n",
    "library(ggrepel)\n",
    "library( GenomicFeatures )\n",
    "\n",
    "# Load libraries\n",
    "library(DOSE)\n",
    "library(pathview)\n",
    "library(clusterProfiler)\n",
    "library(org.Hs.eg.db)"
   ]
  },
  {
   "cell_type": "markdown",
   "id": "5c1f0376-c427-4045-b092-6706c384e4a1",
   "metadata": {},
   "source": [
    "## Inputs - Outputs\n",
    "\n",
    "Here we define the input and output files as well as the sample descriptions. \n"
   ]
  },
  {
   "cell_type": "code",
   "execution_count": null,
   "id": "2bbf2da9-0936-449a-a625-95cdb6376a03",
   "metadata": {},
   "outputs": [],
   "source": [
    "base_dir <- '/bio-apps/turbine-rna/'\n",
    "input_dir <- paste(base_dir,'results/salmon_GRCh38_outputs', sep = '')\n",
    "\n",
    "sampletype <- factor(c(rep(\"dmso\",2), rep(\"jq1\", 2)))\n",
    "\n",
    "## Outputs:\n",
    "\n",
    "### Tables\n",
    "normalized_counts_file <- paste(base_dir,'results/salmon_GRCh38_normalized_counts.tsv', sep = '' )\n",
    "normalized_logt_counts_file <- paste(base_dir,'results/salmon_GRCh38_normalized_logt_counts.tsv', sep = '' )\n",
    "differential_expressed_table_file <- paste(base_dir,'results/salmon_GRCh38_de_genes_all.tsv', sep = '' )\n",
    "differential_expressed_sign_only_table_file <- paste(base_dir,'results/salmon_GRCh38_de_genes_sign.tsv', sep = '' )\n",
    "gsea_file <- paste(base_dir,'results/salmon_GRCh38_gsea_kegg.tsv', sep = '' )\n",
    "\n",
    "### Plots:\n",
    "pca_plot_file <- paste(base_dir,'results/salmon_GRCh38_samples_pca_plot.png', sep = '' )\n",
    "ma_plot_file <- paste(base_dir,'results/salmon_GRCh38_samples_ma_plot.png', sep = '' )\n",
    "heatmap_gene_sample_file <- paste(base_dir,'results/salmon_GRCh38_samples_heatmap_gene_sample.png', sep = '' )\n",
    "heatmap_sample_sample_file <- paste(base_dir,'results/salmon_GRCh38_samples_heatmap_sample_sample.png', sep = '' )\n",
    "vulcano_plot_file <- paste(base_dir,'results/salmon_GRCh38_samples_vulcano_plot.png', sep = '' )\n",
    "go_enrichment_plot_file <- paste(base_dir,'results/salmon_GRCh38_encrichment_go.png', sep = '' )\n",
    "go_network_enrichment_plot_file <- paste(base_dir,'results/salmon_GRCh38_encrichment_go_network.png', sep = '' )\n",
    "go_network_enrichment_plot_file <- paste(base_dir,'results/salmon_GRCh38_encrichment_go_network.png', sep = '' )\n",
    "\n",
    "go_gene_assoc_plot_file <- paste(base_dir,'results/salmon_GRCh38_encrichment_go_gene.png', sep = '' )\n"
   ]
  },
  {
   "cell_type": "code",
   "execution_count": null,
   "id": "177a5ba8-88ef-4ffb-a341-4ef0c522d364",
   "metadata": {},
   "outputs": [],
   "source": []
  },
  {
   "cell_type": "markdown",
   "id": "81167948-1c49-4324-8608-d38817e9e620",
   "metadata": {},
   "source": [
    "## Loading the salmon data into DESeq2\n"
   ]
  },
  {
   "cell_type": "code",
   "execution_count": null,
   "id": "76f09245-509b-4f59-b9f0-6781b691276c",
   "metadata": {},
   "outputs": [],
   "source": [
    "# Get SALMON outputs\n",
    "tx2gene <- read.delim(paste(base_dir,'data/tx2gene_grch38.txt', sep = \"\"))\n",
    "samples <- list.files(path = input_dir, full.names = T, pattern=\"trimmed$\")\n",
    "files <- file.path(samples, \"quant.sf\")\n",
    "\n",
    "names(files) <- str_replace(samples, input_dir, \"\") %>%\n",
    "                str_replace('/', \"\") %>% \n",
    "                str_replace(\".salmon\", \"\")\n",
    "\n",
    "txi <- tximport(files, type=\"salmon\", tx2gene=tx2gene[,c(\"tx_id\", \"ensgene\")], countsFromAbundance=\"lengthScaledTPM\",ignoreTxVersion = TRUE, ignoreAfterBar = TRUE)\n",
    "\n",
    "# Create the expression data object with sample annotation\n",
    "data <- txi$counts %>% \n",
    "  round() %>% \n",
    "  data.frame()\n",
    "meta <- data.frame(sampletype, row.names = colnames(txi$counts))\n"
   ]
  },
  {
   "cell_type": "markdown",
   "id": "33b3de8a-0af1-4255-879a-672f7f2a7055",
   "metadata": {},
   "source": [
    "### Creating DESeq2 object from the loaded data\n"
   ]
  },
  {
   "cell_type": "code",
   "execution_count": null,
   "id": "2729cada-d8af-4a1a-be06-de8b1727afa0",
   "metadata": {},
   "outputs": [],
   "source": [
    "### Check that sample names match in both files\n",
    "\n",
    "# Fast check for the inputs\n",
    "all(colnames(txi$counts) %in% rownames(meta))\n",
    "all(colnames(txi$counts) == rownames(meta))\n",
    "dds <- DESeqDataSetFromTximport(txi, colData = meta, design = ~ sampletype)\n",
    "dds <- estimateSizeFactors(dds)\n",
    "\n",
    "grch38annot <- tx2gene %>% \n",
    "               dplyr::select(ensgene, symbol) %>% \n",
    "               dplyr::distinct()\n",
    "normalized_counts <- counts(dds, normalized=T) %>% \n",
    "                     data.frame() %>%\n",
    "                     rownames_to_column(var=\"gene\") \n",
    "normalized_counts <- merge(normalized_counts, grch38annot, by.x=\"gene\", by.y=\"ensgene\")\n",
    "normalized_counts <- normalized_counts %>%\n",
    "                     as_tibble()\n",
    "write.table(normalized_counts, file=normalized_counts_file, sep=\"\\t\", quote=F, col.names=NA)\n",
    "log_data <- rlog(dds, blind=TRUE)\n",
    "write.table(assay(log_data), file=normalized_logt_counts_file, sep=\"\\t\", quote=F, col.names=NA)"
   ]
  },
  {
   "cell_type": "markdown",
   "id": "feafad08-8586-4099-97a8-b120d7eba287",
   "metadata": {},
   "source": [
    "## PCA plot for the samples\n"
   ]
  },
  {
   "cell_type": "code",
   "execution_count": null,
   "id": "dc634161-e2f2-4a50-9e5c-6b1aa4a77bd7",
   "metadata": {},
   "outputs": [],
   "source": [
    "plotPCA(log_data, intgroup=\"sampletype\")\n",
    "dev.copy(png,pca_plot_file)\n",
    "dev.off()\n",
    "rld_mat <- assay(log_data)\n",
    "pca <- prcomp(t(rld_mat))\n",
    "df <- cbind(meta, pca$x)"
   ]
  },
  {
   "cell_type": "markdown",
   "id": "af3c9537-2ed7-4bc9-805f-211245c56c62",
   "metadata": {},
   "source": [
    "### Notes\n",
    "One could expect that the technical replicates of the same experiment should be closer to each other compared to samples of different experiments. Unfortunately, here we only have 2 vs 2 samples, which might be misleading. The PCA analysis tries to capture the variance (find a projection from N dim to 2 dim that captures as much variance as possible.) One should look into the factors as well, to see which genes drive the PC1 and PC2 the most (biplot PCA). UMAP is a good alternative visualization and analysis technique. (In this mini problem it would be an overkill and misleading.)\n",
    "\n"
   ]
  },
  {
   "cell_type": "markdown",
   "id": "4e226eb3-0314-4fec-84c2-186661ab2b94",
   "metadata": {},
   "source": [
    "## Statistical analysis\n",
    "\n",
    "DESeq2 fits statistical models to the count data, then assesses the significance using Wald tests. "
   ]
  },
  {
   "cell_type": "code",
   "execution_count": null,
   "id": "a5e99a34-5f31-4e43-90e6-3308905971e8",
   "metadata": {},
   "outputs": [],
   "source": [
    "# Evalutating actual stat analysis (for more details see the DESeq2 material or paper)\n",
    "dds <- DESeq(dds)\n",
    "dds_lrt <- DESeq(dds, test=\"LRT\", reduced = ~ 1)\n",
    "contrast_oe <- c(\"sampletype\", \"dmso\", \"jq1\")\n",
    "res_tableOE_unshrunken <- results(dds, contrast=contrast_oe, alpha = 0.05)\n",
    "res_tableOE <- lfcShrink(dds, coef=\"sampletype_jq1_vs_dmso\", type=\"apeglm\")"
   ]
  },
  {
   "cell_type": "code",
   "execution_count": null,
   "id": "fa8424d1-83fb-44dc-8c5f-eec4f3dd792e",
   "metadata": {},
   "outputs": [],
   "source": [
    "# MA plot from the FOLD changes\n",
    "dev.copy(png,ma_plot_file)\n",
    "plotMA(res_tableOE, ylim=c(-2,2))\n",
    "\n",
    "dev.off()\n"
   ]
  },
  {
   "cell_type": "code",
   "execution_count": null,
   "id": "e90fa7e4-b284-47f1-a3e3-dfd3cea299ee",
   "metadata": {
    "tags": []
   },
   "outputs": [],
   "source": [
    "summary(res_tableOE, alpha = 0.05)\n",
    "### Set thresholds\n",
    "padj.cutoff <- 0.05\n",
    "# Create a tibble of results\n",
    "res_tableOE_tb <- res_tableOE %>%\n",
    "  data.frame() %>%\n",
    "  rownames_to_column(var=\"gene\") %>% \n",
    "  as_tibble()\n",
    "# Subset the tibble to keep only significant genes\n",
    "sigOE <- res_tableOE_tb %>%\n",
    "        filter(padj < padj.cutoff)\n",
    "norm_OEsig <- normalized_counts %>% \n",
    "              filter(gene %in% sigOE$gene)\n",
    "\n",
    "write.table(res_tableOE_tb, file=differential_expressed_table_file, sep=\"\\t\", quote=F, col.names=NA)\n",
    "write.table(norm_OEsig, file=differential_expressed_sign_only_table_file, sep=\"\\t\", quote=F, col.names=NA)\n"
   ]
  },
  {
   "cell_type": "markdown",
   "id": "85c8c70a-e533-454e-9eae-15906473b1e4",
   "metadata": {
    "tags": []
   },
   "source": [
    "### Heatmaps\n"
   ]
  },
  {
   "cell_type": "code",
   "execution_count": 15,
   "id": "8506d128-5289-41af-8ca1-d33f163e2604",
   "metadata": {},
   "outputs": [
    {
     "data": {
      "text/html": [
       "<strong>png:</strong> 3"
      ],
      "text/latex": [
       "\\textbf{png:} 3"
      ],
      "text/markdown": [
       "**png:** 3"
      ],
      "text/plain": [
       "png \n",
       "  3 "
      ]
     },
     "metadata": {},
     "output_type": "display_data"
    },
    {
     "data": {
      "image/png": "[encoded data removed]",
      "text/plain": [
       "plot without title"
      ]
     },
     "metadata": {
      "image/png": {
       "height": 1200,
       "width": 600
      }
     },
     "output_type": "display_data"
    }
   ],
   "source": [
    "### Set a color palette\n",
    "\n",
    "heat_colors <- brewer.pal(4, \"YlOrRd\")\n",
    "### Run heatmap using the metadata for the annotation\n",
    "options(repr.plot.width=10, repr.plot.height=20)\n",
    "\n",
    "\n",
    "res_tableOE_tb <- res_tableOE_tb %>% \n",
    "                  mutate(threshold_OE = padj < 0.05 & abs(log2FoldChange) >= 1)\n",
    "\n",
    "pheatmap(norm_OEsig[2:5], \n",
    "    color = heat_colors, \n",
    "    cluster_rows = T, \n",
    "    show_rownames = F,\n",
    "    annotation = meta, \n",
    "    border_color = NA, \n",
    "    fontsize = 10, \n",
    "    scale = \"row\", \n",
    "    fontsize_row = 10, \n",
    "    height = 20)\n",
    "\n",
    "# Saving the figure into file\n",
    "png(heatmap_gene_sample_file, width = 1000, height = 1500)\n",
    "pheatmap(norm_OEsig[2:5], \n",
    "    color = heat_colors, \n",
    "    cluster_rows = T, \n",
    "    show_rownames = F,\n",
    "    annotation = meta, \n",
    "    border_color = NA, \n",
    "    fontsize = 10, \n",
    "    scale = \"row\", \n",
    "    fontsize_row = 10, \n",
    "    height = 20)\n",
    "\n",
    "dev.off()\n"
   ]
  },
  {
   "cell_type": "code",
   "execution_count": null,
   "id": "bd66e687-d9c0-4ed9-a6ae-451045916fa1",
   "metadata": {},
   "outputs": [],
   "source": [
    "# Calculating the correlations using the corrected log transformed values\n",
    "options(repr.plot.width=10, repr.plot.height=10)\n",
    "\n",
    "\n",
    "rld_cor <- cor(rld_mat)\n",
    "pheatmap(rld_cor, annotation = meta)\n",
    "\n",
    "dev.copy(png,heatmap_sample_sample_file)\n",
    "dev.off()\n"
   ]
  },
  {
   "cell_type": "markdown",
   "id": "b8606402-cb57-428c-9fb7-4fe88e2f02e7",
   "metadata": {},
   "source": [
    "### Heatmaps analysis\n",
    "Overally, the technical replicates are strongly correlated as well as the DMSO and jg1 samples, indicating that the correlation metric is not really useful here as it takes all transcripts into account. \n",
    "\n",
    "\n"
   ]
  },
  {
   "cell_type": "markdown",
   "id": "e8553423-495d-46aa-ab4f-b46324d3ed49",
   "metadata": {},
   "source": [
    "### Vulcano plot"
   ]
  },
  {
   "cell_type": "code",
   "execution_count": 16,
   "id": "a950e55d-a02e-49ab-b952-bf701726f144",
   "metadata": {},
   "outputs": [
    {
     "data": {
      "text/html": [
       "<strong>png:</strong> 8"
      ],
      "text/latex": [
       "\\textbf{png:} 8"
      ],
      "text/markdown": [
       "**png:** 8"
      ],
      "text/plain": [
       "png \n",
       "  8 "
      ]
     },
     "metadata": {},
     "output_type": "display_data"
    },
    {
     "name": "stderr",
     "output_type": "stream",
     "text": [
      "Warning message:\n",
      "“Removed 45779 rows containing missing values (geom_point).”\n"
     ]
    },
    {
     "data": {
      "text/html": [
       "<strong>png:</strong> 2"
      ],
      "text/latex": [
       "\\textbf{png:} 2"
      ],
      "text/markdown": [
       "**png:** 2"
      ],
      "text/plain": [
       "png \n",
       "  2 "
      ]
     },
     "metadata": {},
     "output_type": "display_data"
    }
   ],
   "source": [
    "## Vulcano plot\n",
    "options(repr.plot.width=10, repr.plot.height=10)\n",
    "dev.copy(png,vulcano_plot_file)\n",
    "\n",
    "\n",
    "ggplot(res_tableOE_tb) +\n",
    "    geom_point(aes(x = log2FoldChange, y = -log10(padj), colour = threshold_OE)) +\n",
    "    ggtitle(\"Mov10 overexpression\") +\n",
    "    xlab(\"log2 fold change\") + \n",
    "    ylab(\"-log10 adjusted p-value\") +\n",
    "    #scale_y_continuous(limits = c(0,50)) +\n",
    "    theme(legend.position = \"none\",\n",
    "          plot.title = element_text(size = rel(1.5), hjust = 0.5),\n",
    "          axis.title = element_text(size = rel(1.25))) \n",
    "\n",
    "dev.off()\n"
   ]
  },
  {
   "cell_type": "markdown",
   "id": "cbcfd8ad-6049-491d-9db9-0e87b5a08551",
   "metadata": {},
   "source": [
    "## Enrichment analysis\n",
    "\n",
    "Here we are going to evaluate the top differentially expressed genes by mapping them to gene ontology categories and KEGG pathways. For the gene ontology analysis I am going to use 'traditional' hypergeometric test for assessing the enrichment to GO categories. \n",
    "Another alternative approach is the gene set enrichment analaysis, which takes into account all genes, not only the siginifant ones. Here I just use the KEGG pathways as examples, but there are many more classes of predefined gene sets (like cancer driver genes, hallmark genes, etc) \n",
    "\n"
   ]
  },
  {
   "cell_type": "code",
   "execution_count": null,
   "id": "a9efe187-5050-45eb-895b-82a2856c77c0",
   "metadata": {},
   "outputs": [],
   "source": [
    "annotations_ahb <- read.csv(\"/home/ligeti/gitrepos/turbine-rnaseq-ligeti/data/annotations_small.csv\")\n",
    "\n",
    "res_ids <- left_join(res_tableOE_tb, annotations_ahb, by=c(\"gene\"=\"gene_id\"))    \n",
    "allOE_genes <- as.character(res_ids$gene)\n",
    "\n",
    "## Extract significant results\n",
    "sigOE <- dplyr::filter(res_ids, padj < 0.05)\n",
    "sigOE_genes <- as.character(sigOE$gene)\n",
    "\n",
    "res_ids <- left_join(res_tableOE_tb, annotations_ahb, by=c(\"gene\"=\"gene_id\"))    \n",
    "## Create background dataset for hypergeometric testing using all genes tested for significance in the results                 \n",
    "allOE_genes <- as.character(res_ids$gene)\n",
    "\n",
    "## Extract significant results\n",
    "sigOE <- dplyr::filter(res_ids, padj < 0.05)\n",
    "sigOE_genes <- as.character(sigOE$gene)\n"
   ]
  },
  {
   "cell_type": "code",
   "execution_count": null,
   "id": "31188fea-c9b0-40b7-9fe0-fc5a83755de7",
   "metadata": {},
   "outputs": [],
   "source": [
    "## Run GO enrichment analysis \n",
    "ego <- enrichGO(gene = sigOE_genes, \n",
    "                universe = allOE_genes,\n",
    "                keyType = \"ENSEMBL\",\n",
    "                OrgDb = org.Hs.eg.db, \n",
    "                ont = \"BP\", \n",
    "                pAdjustMethod = \"BH\", \n",
    "                qvalueCutoff = 0.05, \n",
    "                readable = TRUE)\n"
   ]
  },
  {
   "cell_type": "code",
   "execution_count": null,
   "id": "dfa5449f-e6cf-444f-857b-ec9799f99952",
   "metadata": {
    "tags": []
   },
   "outputs": [],
   "source": [
    "## Output results from GO analysis to a table\n",
    "\n",
    "options(repr.plot.width=10, repr.plot.height=20)\n",
    "cluster_summary <- data.frame(ego)\n",
    "dotplot(ego, showCategory=40)\n",
    "\n",
    "png(go_enrichment_plot_file, width = 1000, height = 2000)\n",
    "dotplot(ego, showCategory=40)\n",
    "dev.off()\n"
   ]
  },
  {
   "cell_type": "code",
   "execution_count": null,
   "id": "4e3b2a97-be29-48c5-9dfd-ae845b6fbc92",
   "metadata": {},
   "outputs": [],
   "source": []
  },
  {
   "cell_type": "code",
   "execution_count": null,
   "id": "aec7ace6-5dff-4680-bf1a-5a58d49fcfa1",
   "metadata": {},
   "outputs": [],
   "source": [
    "options(repr.plot.width=15, repr.plot.height=20)\n",
    "\n",
    "library(ggnewscale)\n",
    "## Add similarity matrix to the termsim slot of enrichment result\n",
    "ego <- enrichplot::pairwise_termsim(ego)\n",
    "\n",
    "## Enrichmap clusters the 30 most significant (by padj) GO terms to visualize relationships between terms\n",
    "emapplot(ego, showCategory = 30)\n",
    "\n",
    "# Saving figure\n",
    "png(go_network_enrichment_plot_file, width = 1500, height = 2000)\n",
    "emapplot(ego, showCategory = 30)\n",
    "dev.off()\n"
   ]
  },
  {
   "cell_type": "markdown",
   "id": "68147a3f-e3a8-424f-a21b-1ed6d151b8fe",
   "metadata": {},
   "source": [
    "#### Plot gene and top GO categories association\n",
    "Plotting the associations between the GO categories and the individual genes. \n",
    "The size will represent the p-value (the more significant the larger the gene); \n",
    "the colormap represents the foldchange (direction included)\n"
   ]
  },
  {
   "cell_type": "code",
   "execution_count": null,
   "id": "7d110210-b617-4ccc-a0cf-d2fb7606b7cc",
   "metadata": {},
   "outputs": [],
   "source": [
    "## To color genes by log2 fold changes, we need to extract the log2 fold changes from our results table creating a named vector\n",
    "OE_foldchanges <- sigOE$log2FoldChange\n",
    "names(OE_foldchanges) <- sigOE$gene\n",
    "\n",
    "\n",
    "OE_foldchanges <- ifelse(OE_foldchanges > 4, 4, OE_foldchanges)\n",
    "OE_foldchanges <- ifelse(OE_foldchanges < -4, -4, OE_foldchanges)\n",
    "cnetplot(ego, \n",
    "         categorySize=\"pvalue\", \n",
    "         showCategory = 5, \n",
    "         foldChange=OE_foldchanges, \n",
    "         vertex.label.font=6)\n",
    "\n",
    "# Saving the figure\n",
    "png(go_gene_assoc_plot_file, width = 1500, height = 2000)\n",
    "cnetplot(ego, \n",
    "         categorySize=\"pvalue\", \n",
    "         showCategory = 5, \n",
    "         foldChange=OE_foldchanges, \n",
    "         vertex.label.font=6)\n",
    "dev.off()"
   ]
  },
  {
   "cell_type": "code",
   "execution_count": null,
   "id": "44bc9427-b7b0-4636-8db1-9fa363567890",
   "metadata": {},
   "outputs": [],
   "source": []
  }
 ],
 "metadata": {
  "kernelspec": {
   "display_name": "R",
   "language": "R",
   "name": "ir"
  },
  "language_info": {
   "codemirror_mode": "r",
   "file_extension": ".r",
   "mimetype": "text/x-r-source",
   "name": "R",
   "pygments_lexer": "r",
   "version": "4.2.0"
  }
 },
 "nbformat": 4,
 "nbformat_minor": 5
}
