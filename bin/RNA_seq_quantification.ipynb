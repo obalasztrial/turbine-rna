{
 "cells": [
  {
   "cell_type": "markdown",
   "id": "286a5d89-9324-4cf2-9fe0-e5c6ddf7e196",
   "metadata": {
    "tags": []
   },
   "source": [
    "# RNA seq quantification\n"
   ]
  },
  {
   "cell_type": "markdown",
   "id": "8579cf61-6699-4708-8ebf-d6086fa4f901",
   "metadata": {},
   "source": [
    "The main goal of this notebook is to preprocess and to quantify the mRNA obtained in the samples.\n",
    "There are many approaches and tools to achieve this. Here I am going to apply two different stategies: a k-mer based fast approach (SALMON) and a classic read-map (splice aware) tool (STAR). Since here we are dealing with human samples a reference based approach is more practical because of its increased sensitivity compared to de-novo approaches. Note, however, that one of the limitations of these approaches lies in the applied reference genome, which might be less representative in this application than one would expect.\n",
    "Here we used the GRCh38 reference genome and its ensemble provided gene annotation. Note that the actual gene annotation has substantial impact on the results rendering RNA-Seq data integration a lot harder task. \n",
    "The raw reference genomes are deposited into the cloud as well as the corresponding indeces. The indeces are fitted to this rna-seq data (i.e. smaller k-mers (salmon)).\n",
    "The indexing and the alignment requires significant amount of resources (min. RAM > 40G; cpu_cores>10), thus it will not be able to run on simple-serverless-solutions, one needs a dedicated resource to manage (fortunately the cloud providers have solutions for that. In this application I used dedicated VM-s). \n",
    "\n",
    "\n",
    "### Input: \n",
    "   * preprocessed reads\n",
    "   * optionally genome data to index\n",
    "\n",
    "   \n",
    "### Outputs:\n",
    "  * RNA pseudocounts for samples provided by SALMON\n",
    "  * indexed genomes provided by STAR\n",
    "  * indexed genomes provided by SALMON\n",
    "\n",
    "### Requirements:\n",
    "  * salmon, star, sam-tools, htseq-counts\n",
    "  * input data, project directories\n",
    "  * inputs here assumed to be single reads\n",
    "\n",
    "\n",
    "### Assumptions and notes\n",
    "  * the proper paths and project data should be set before the run\n",
    "\n",
    "### Data:\n",
    "  * reference genome: https://storage.googleapis.com/turbine-rna/GRCh38.tar.bz2\n",
    "  * STAR indexed reference genome: https://storage.googleapis.com/turbine-rna/STAR_human_ref_index.tar.bz2\n",
    "  * SALMON index: https://storage.googleapis.com/turbine-rna/GRCh38_ensemble_transcripts.tar.bz2\n",
    "\n"
   ]
  },
  {
   "cell_type": "markdown",
   "id": "66518f9f-278a-4a0c-b5d8-c79befafa42b",
   "metadata": {},
   "source": [
    "# General paths and data\n"
   ]
  },
  {
   "cell_type": "code",
   "execution_count": null,
   "id": "50bf9d31-7282-42e3-9a67-6b2fdb99c32f",
   "metadata": {},
   "outputs": [],
   "source": [
    "import os\n",
    "import multiprocessing\n",
    "from IPython.core.interactiveshell import InteractiveShell\n",
    "InteractiveShell.ast_node_interactivity = \"all\"\n",
    "from turbine_lib import *\n",
    "\n",
    "\n",
    "genome_data_http = 'https://storage.googleapis.com/turbine-rna/GRCh38.tar.bz2'\n",
    "star_index = 'STAR_human_ref_index.tar.bz2'\n",
    "\n",
    "%load_ext autoreload\n",
    "%autoreload 2\n",
    "\n",
    "# Input\n",
    "base_path = '/bio-apps/turbine-rna/'\n",
    "results_path = join(base_path, 'results')\n",
    "trimmed_path = join(results_path, 'trimmed_files/')\n",
    "\n",
    "\n",
    "# Output folders and parameters\n",
    "salmon_path = 'salmon'\n",
    "salmon_index = join(base_path, 'data', 'salmon_GRCh38_transcripts_index')\n",
    "salmon_output_folder = join(results_path, 'salmon_GRCh38_outputs')\n",
    "\n",
    "# STAR mapping tool\n",
    "star_path = 'STAR'\n",
    "output_dir = join(results_path, 'trimmed_star_GRCh38')\n",
    "star_reference_index = join(base_path, 'data', 'star_GRCh38_index')\n",
    "\n",
    "\n",
    "other_options = \"--outSAMtype BAM SortedByCoordinate \\\n",
    " --outSAMunmapped Within \\\n",
    " --outSAMattributes Standard\"\n",
    "\n",
    "# SAM tools\n",
    "samtool_path = 'samtools'\n",
    "\n",
    "\n",
    "# Other paramaters\n",
    "# Core counts\n",
    "number_of_threads = multiprocessing.cpu_count()\n"
   ]
  },
  {
   "cell_type": "code",
   "execution_count": null,
   "id": "3cde9dd2-d937-4c82-af4d-e3ca2a04e978",
   "metadata": {},
   "outputs": [],
   "source": []
  },
  {
   "cell_type": "code",
   "execution_count": null,
   "id": "da0f70c9-5a1b-469c-82f5-eaf009487151",
   "metadata": {},
   "outputs": [],
   "source": [
    "# Creating directories\n",
    "if not os.path.exists(salmon_output_folder):\n",
    "    os.makedirs(salmon_output_folder)\n",
    "if not os.path.exists(output_dir):\n",
    "    os.makedirs(output_dir)\n"
   ]
  },
  {
   "cell_type": "markdown",
   "id": "fe45c320-e530-4437-90e8-81225b0d78ba",
   "metadata": {},
   "source": [
    "# Downloading reference data\n",
    "\n",
    "DO NOT RUN\n",
    "(note this is a bash script)\n"
   ]
  },
  {
   "cell_type": "code",
   "execution_count": null,
   "id": "46545f0e-30dc-4456-89b9-ec51dcc2eb0a",
   "metadata": {
    "tags": []
   },
   "outputs": [],
   "source": [
    "%%bash\n",
    "\n",
    "wget --directory-prefix=../data https://storage.googleapis.com/turbine-rna/GRCh38.tar.bz2\n",
    "cd .data\n",
    "tar -xf GRCh38.tar.bz2\n"
   ]
  },
  {
   "cell_type": "markdown",
   "id": "5f27024f-5b98-4a8a-91d7-ad8d960a4568",
   "metadata": {
    "tags": []
   },
   "source": [
    "# Indexing for STAR\n",
    "note that the index path should be matched to the project paths.\n",
    "The overhang is set to 50. (samples do not contain longer reads) \n"
   ]
  },
  {
   "cell_type": "code",
   "execution_count": null,
   "id": "2cc2160f-1ec7-405f-a46e-df8f1e5feaa1",
   "metadata": {
    "tags": []
   },
   "outputs": [],
   "source": [
    "%%bash\n",
    "STAR --runThreadN 32 \\\n",
    "--runMode genomeGenerate \\\n",
    "--genomeDir /bio-apps/turbine-rna/data/star_GRCh38_index \\\n",
    "--genomeFastaFiles /bio-apps/turbine-rna/data/GRCh38/hg38.fa \\\n",
    "--sjdbGTFfile /bio-apps/turbine-rna/data/GRCh38/hg38.ensGene.gtf \\\n",
    "--sjdbOverhang 50\n"
   ]
  },
  {
   "cell_type": "markdown",
   "id": "cca7b032-470d-4b37-9a2f-11dc7145d56f",
   "metadata": {},
   "source": [
    "## Calculate STAR alignment"
   ]
  },
  {
   "cell_type": "code",
   "execution_count": null,
   "id": "a939b36c-3ad4-47fd-ba05-e6b7131f9434",
   "metadata": {},
   "outputs": [],
   "source": [
    "prefix_to_pair = get_illumina_pairs(trimmed_path)\n",
    "output_files = {}\n",
    "star_cmds = []\n",
    "for prefix, fastq_file in prefix_to_pair.items():\n",
    "    prefix\n",
    "    star_cmd = '{0} \\\n",
    "    --genomeDir {1} \\\n",
    "    --runThreadN {2} \\\n",
    "    --readFilesIn {3} \\\n",
    "    --outFileNamePrefix {4} \\\n",
    "    {5} '.format(star_path, \n",
    "             star_reference_index,\n",
    "            number_of_threads,\n",
    "            fastq_file[0],\n",
    "            join(output_dir, prefix),\n",
    "            other_options)\n",
    "    print(star_cmd)\n",
    "    star_cmds.append(star_cmd)\n",
    "    output_files[prefix] = [join(output_dir, prefix + 'Aligned.sortedByCoord.out.bam')]\n",
    "    os.system(star_cmd)\n",
    "    "
   ]
  },
  {
   "cell_type": "markdown",
   "id": "37ec702c-2f5b-4882-bc3e-1acb910be91a",
   "metadata": {},
   "source": [
    "### Running samtools for indexing the alignments"
   ]
  },
  {
   "cell_type": "code",
   "execution_count": null,
   "id": "093833d7-55c0-423f-8a27-1a0a7ddb1410",
   "metadata": {},
   "outputs": [],
   "source": [
    "# Running samtools for indexing\n",
    "from os.path import exists\n",
    "import errno\n",
    "import os\n",
    "for prefix in output_files:\n",
    "    print(prefix, output_files[prefix][0])\n",
    "    # check if file exists:\n",
    "    if exists(output_files[prefix][0]):\n",
    "        samtool_cmd = '{0} index {1}'.format(samtool_path, output_files[prefix][0])\n",
    "        print(samtool_cmd)\n",
    "        os.system(samtool_cmd)\n",
    "    else:\n",
    "        raise FileNotFoundError(errno.ENOENT, os.strerror(errno.ENOENT), output_files[prefix][0])\n",
    "        \n"
   ]
  },
  {
   "cell_type": "code",
   "execution_count": null,
   "id": "e567f2f9-28a4-4aee-b90f-0cdfe9261ddb",
   "metadata": {},
   "outputs": [],
   "source": [
    "%%bash\n",
    "\n",
    "featureCounts -T 4 -s 2 \\\n",
    "  -a /bio-apps/turbine-rna/data/GRCh38/hg38.ensGene.gtf \\\n",
    "  -o /bio-apps/turbine-rna/results/trimmed_star/trimmed_featurecounts.txt \\\n",
    "  /home/ligeti/gitrepos/turbine-rnaseq-ligeti/results/trimmed_star_GRCh38/*.out.bam\n"
   ]
  },
  {
   "cell_type": "markdown",
   "id": "90b07b4f-27d6-4e6d-b087-f17c5b55a1d1",
   "metadata": {},
   "source": [
    "# Indexing with SALMON\n",
    "Note that the index path should be matched to the project paths."
   ]
  },
  {
   "cell_type": "code",
   "execution_count": null,
   "id": "0a4a6ca9-5757-434d-8b57-87a3d6b0b0c3",
   "metadata": {},
   "outputs": [],
   "source": [
    "%%bash\n",
    "salmon index -t /bio-apps/turbine-rna/data/GRCh38/GRCh38_rna.fa -i /bio-apps/turbine-rna/data/salmon_GRCh38_transcripts_index -k 19\n"
   ]
  },
  {
   "cell_type": "markdown",
   "id": "a540e6f4-e1fa-4884-83b3-7aa9963b57a3",
   "metadata": {},
   "source": [
    "# Quantification with salmon\n",
    "The outputs will be in the salmon_output_folder directory\n"
   ]
  },
  {
   "cell_type": "code",
   "execution_count": null,
   "id": "59423441-414c-42ce-9926-9a369c57d18e",
   "metadata": {},
   "outputs": [],
   "source": [
    "prefix_to_pair = get_illumina_pairs(trimmed_path)\n",
    "for prefix, fastq_file in prefix_to_pair.items():\n",
    "    prefix\n",
    "    salmon_cmd = '{0} quant \\\n",
    "    -i {1} \\\n",
    "    -l A \\\n",
    "    -r {2} \\\n",
    "    -p {3} \\\n",
    "    -o {4} \\\n",
    "     --numBootstraps 100 \\\n",
    "     --validateMappings \\\n",
    "     --useVBOpt \\\n",
    "    --seqBias'.format(salmon_path,salmon_index, fastq_file[0], number_of_threads, join(salmon_output_folder, prefix))\n",
    "    print(salmon_cmd)\n",
    "    os.system(salmon_cmd)"
   ]
  },
  {
   "cell_type": "code",
   "execution_count": null,
   "id": "ae662618-61f1-4bab-95ba-c7bd356d0929",
   "metadata": {},
   "outputs": [],
   "source": []
  },
  {
   "cell_type": "code",
   "execution_count": null,
   "id": "d79969e2-b154-4422-9938-7fc198677b44",
   "metadata": {},
   "outputs": [],
   "source": []
  }
 ],
 "metadata": {
  "kernelspec": {
   "display_name": "Python 3 (ipykernel)",
   "language": "python",
   "name": "python3"
  },
  "language_info": {
   "codemirror_mode": {
    "name": "ipython",
    "version": 3
   },
   "file_extension": ".py",
   "mimetype": "text/x-python",
   "name": "python",
   "nbconvert_exporter": "python",
   "pygments_lexer": "ipython3",
   "version": "3.9.12"
  }
 },
 "nbformat": 4,
 "nbformat_minor": 5
}
