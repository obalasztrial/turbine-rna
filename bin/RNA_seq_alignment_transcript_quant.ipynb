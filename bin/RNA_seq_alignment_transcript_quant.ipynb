{
 "cells": [
  {
   "cell_type": "markdown",
   "id": "c4407f5d-404d-45e4-8841-84291c527cda",
   "metadata": {},
   "source": [
    "# Processing the trimmied reads\n"
   ]
  },
  {
   "cell_type": "code",
   "execution_count": null,
   "id": "41e0b784-cb62-4262-92fb-564e27a1ba12",
   "metadata": {},
   "outputs": [],
   "source": []
  }
 ],
 "metadata": {
  "kernelspec": {
   "display_name": "Python 3 (ipykernel)",
   "language": "python",
   "name": "python3"
  },
  "language_info": {
   "codemirror_mode": {
    "name": "ipython",
    "version": 3
   },
   "file_extension": ".py",
   "mimetype": "text/x-python",
   "name": "python",
   "nbconvert_exporter": "python",
   "pygments_lexer": "ipython3",
   "version": "3.9.12"
  }
 },
 "nbformat": 4,
 "nbformat_minor": 5
}
