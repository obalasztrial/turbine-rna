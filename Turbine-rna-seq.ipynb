{
 "cells": [
  {
   "cell_type": "markdown",
   "id": "ea28accc-b843-450e-a2e4-1f3ef1e29d03",
   "metadata": {},
   "source": [
    "# Job application for senior bioinformatician at Turbine\n",
    "\n",
    "## Bulk RNA-Seq profiling of JQ1 treatment on SUM159 cell line\n",
    "\n",
    "The project goal was to quantify the mRNA expression changes of JQ1 treatment in triple-negative breast cancer cell line (SUM159). This analysis has 4 parts, which will be descrbed in more details:\n",
    "  * i) summary notebook (this one)\n",
    "  * ii) data preprocessing notebook (bin/RNA_seq_data_preprocessing.ipynb)\n",
    "  * iii) RNA quantfication from raw reads using SALMON and STAR (bin/RNA_seq_quantification.ipynb)\n",
    "  * iv) statistical analysis and visualization with DESeq2 (bin/turbine_rna_deseq2.ipynb)\n",
    "\n"
   ]
  },
  {
   "cell_type": "markdown",
   "id": "bd229c9b-8617-43d9-85e1-c34a6c6309a0",
   "metadata": {},
   "source": [
    "# Bulk RNA-Seq data processing\n",
    "Next generation sequencing became routinly and easily acccessible for research groups resulting in the large-scale accumulating of sequencing information in databases. In the past few decades many tools have been proposed and it is not trivial to choose the 'best' tool combination or bioinformatic pipeline for a certain application. Fortunately, many efforts have been taken to support and build such pipelines, especially for RNA-Seq, which is one of the most commonly used technology for investigating the transcription profile of living organisms. Currently these pipeline tools (Workflow description language, WDL, CWL (Common Workflow language), Snakemake, Nextflow) (i.e. [1]) are the state-of-the-art approaches, because they not only help to build a robust pipeline, but they also support the scalibility (via abstractions), which is crucial in applications where the goal is to process 1000s or even more samples.\n",
    "A good example is Snakemake [2] or Galaxy [3]; for a comprehensive review of the available sollutions see [4]. Here, on the other hand, I decided to go with a custom, POC pipeline for demonstration purposes, since this is a bioinformatics job application. The first part of the pipeline is done via python, the second via bash (i.e. genome indexing) and python, the third part (statistical evaluation) in R. \n",
    "\n",
    "## Infrastructure\n",
    "\n",
    "All the calculations were carried out in cloud environment (Microsoft Azure and Google Cloud), where both traditional (IaaS) and serverless technologies (like cloud-run) were used. The input data is deposited in the cloud (links are in the notebooks). The software infrastructure (neccessary packages, tools, etc.) are provided via docker. All the codes, notebooks, docker files are deposited in a github repository. \n",
    "The containers are also available publicly and the exact versions of the softwares and libraries can be extracted. I belive this is important, otherwise the reproducibility is much harder to be guaranteed. \n",
    "Note, however, that these submitted codes, containers are for demonstration purposes only, not suitable for production usage (for example the containers can and should be optimized; security was not addressed etc.). There are many limitations in this version which can be elimated, at least partly, using proper, CWL like pipeline managers (i.e. collecting input paraemters). Ideally, for such a project one should not only use version control managers like github, but also proper CI/CD pipelines and integrations (like Jenkins).\n",
    "\n",
    "## Methods (summary)\n",
    "The general goal is to understand how the JQ1 treatment changes the transcriptiomic landscape of the cell. There are many ways to carry out an RNA-Seq analysis. First, one could choose from de-novo or 'reference' based methods. Personally, I was really interested whether using the recently published telomer-to-telomer reference genome (CHM13v2) [5] gives new insight about the underlying mechanism of JQ1 treatments. This new reference contains more then 2000 new genes (99 protein coding genes as well), which are likely to be relevant in cancer-related processes. However, the subsequent statistical analysis in DeSeq2 failed due to the proper support of annotation packages in R. The solution is compiling the neccessery mappings (i.e. from transcripts to genes, genes to GO categories, etc.). \n",
    "\n",
    "In this processing pipeline I used reference based tools, for example STAR [6] and SALMON [7]. The GRCh38.p13 reference genome was used withs its ensemble provided gene annotation. Note that the gene annotations have significant effect on the final outputs (i.e. significantly differential expressed genes). STAR is a traditional read mapping tool tailored to rna-seq like data (i.e. by providing splice aware alignments to reference genome), while SALMON is a k-mer (transcriptome) indexing based method with increasing popularity. \n",
    "\n",
    "There is also a wide variety of possible frameworks dealing with raw RNA-Seq data like edgeR [8], DESeq2 [9], etc. In this application I used DESeq2. This framework provides many functions for visualizing and analizing the rna-seq2 data. It provides a flexible statistical framework for modelling and comparing count data. Here I used a very-sample case-control description of the experiment. Note, however, that it could handle much more complex scenarios like the one presented in the original paper [10]. This experiment contains technical replicates of the treatments, which is recommended to be collapsed. For demonstration reasons, I skipped that step (better visualization and enrichment analysis).\n",
    "\n",
    "\n",
    "\n",
    "\n"
   ]
  },
  {
   "cell_type": "markdown",
   "id": "c04448ca-c739-4eef-a4a6-5884f4fc9132",
   "metadata": {},
   "source": [
    "# Background\n",
    "\n",
    "\n",
    "\n"
   ]
  },
  {
   "cell_type": "markdown",
   "id": "64641990-5eef-4fd2-a6d8-3b2aeeff00d8",
   "metadata": {},
   "source": [
    "Triple negative breast cancer is one of the most challanging types of breast cancer, since it’s associated with poor prognosis and overall survival and because of the limited therapeutic options. \n",
    "\n",
    "<img src=\"assets/41571_2021_565_Fig2_HTML.webp\" style=\"height:1000px\"/>\n",
    "\n",
    "The TBNC associated signaling pathways and the potentially applicable therapeutic options, for a review see [12]. \n",
    "\n",
    "\n",
    "\n",
    "\n"
   ]
  },
  {
   "cell_type": "markdown",
   "id": "3becc304-1b1f-45a5-9de4-8671e4d1cfbf",
   "metadata": {
    "tags": []
   },
   "source": [
    "# Results\n",
    "\n",
    "## PART 1 - Sample preprocessing\n",
    "\n",
    "The quality of the raw reads were assesed with FastQC and Multiqc as presented in RNA_seq_data_preprocessing.ipynb notebook. Based on the assessment the first 13bp of reads were removed as well as the low quality parts. The reads with length of 30bp were discarded. The illumina adapters (True-seq) were removed using the trimmomatic 1.39. \n",
    "<h1>Summarized mutliqc report:</h1> <a href=\"https://rna-pipeline-4tzn6567yq-ey.a.run.app/files/results/raw_multiqc/multiqc_report.html\"> MultiQC results </a> <p> (For details visit the documentation of multiQC <a href=\"https://multiqc.info\"> https://multiqc.info </a>) </p> <br>\n",
    "\n",
    "<h1>Summarized report after the preprocessing:</h1> <a href=\"https://rna-pipeline-4tzn6567yq-ey.a.run.app/files/results/trimmed_multiqc/multiqc_report.html\"> MultiQC results </a> <p> (For details visit the documentation of multiQC <a href=\"https://multiqc.info\"> https://multiqc.info </a>) </p> <br>\n",
    "\n",
    "Later on both STAR and SALMON used the trimmed reads as input. For more details see bin/RNA_seq_data_preprocessing.ipynb.\n",
    "\n"
   ]
  },
  {
   "cell_type": "markdown",
   "id": "dbdaeb57-6891-405c-90f0-3751b112b443",
   "metadata": {},
   "source": [
    "## RNA quantification\n",
    "\n",
    "The quantification process is documented in bin/RNA_seq_alignment_transcript_quant.ipynb notebook. \n",
    "The RNA quantification was done with either STAR (note that the index was fitted to this datasets) or SALMON. After the mapping process (for more details see the notebook) the alignment results are sorted with samtools. The STAR alignment results can be visualizing IGV. featureCounts were used to create the final count data table. \n",
    "\n",
    "The outputs are the following:\n",
    "  * Salmon pseudo counts and statistic: results/salmon_GRCh38_outputs/*\n",
    "  * STAR alignments and counts: results/trimmed_star_GRCh38/*"
   ]
  },
  {
   "cell_type": "markdown",
   "id": "90335336-3a67-4c90-a2f0-08421178760c",
   "metadata": {},
   "source": [
    "# Statistical analysis and visualization with DESeq2\n",
    "\n",
    "Analyzing and interpreting RNA-Seq data is surprisingly complex due to various reasons. During the analysis many questions arise ranging from bioinformatics and biostatistics to biomedical ones and various data visualization techniques (i.e. clustered heatmaps, PCA) might help to address these questions. \n",
    "The RNA-Seq data is known to be compositional which has several implications regarding how to compare expression levels of the same genes across samples and groups or within sample. Here I applied different normalization and filtering techniques. \n",
    "The ideal outcome is a new biological knowledge i.e. better characterization of treatment. For demonstration purposes the technical replicates were not collapsed.\n",
    "\n",
    "\n",
    "The main outputs:\n",
    "  * normalized (and log-transformed) count data\n",
    "  * PCA plot for comparing the samples\n",
    "  * Differential expressed genes table: statistical analysis (significantly DE genes, p-value correction)\n",
    "  * Clustered heatmaps\n",
    "  * Gene set enrichment analyis (significantly affected KEGG pathways)\n",
    "  * Other functional analysis (GO categories, basic pathways)\n"
   ]
  },
  {
   "cell_type": "code",
   "execution_count": null,
   "id": "9160dd44-0613-4aa4-9896-ba67204558c2",
   "metadata": {},
   "outputs": [],
   "source": []
  },
  {
   "cell_type": "markdown",
   "id": "be893b61-7b14-44ab-a069-07a66d7d3cd9",
   "metadata": {},
   "source": [
    "## Deseq2\n",
    "\n",
    "#### Clustered heatmap\n",
    "<img src=\"assets/salmon_GRCh38_samples_heatmap_gene_sample.png\" style=\"height:500px\"/>\n",
    "\n",
    "This figure represents the association between the significantly (adjusted p-value) differential expressed genes and samples. Each row corresponds to the normalized expression value of a gene. One can obtain that there are gene clusters. THe genes that have similar expression patterns tend to be close to each other due to the hierarchical clustering. Here the interpretation possibilites are limited, since one expects that technical replicates should have more or less the same expression pattern.\n",
    "\n",
    "### Principal component analysis\n",
    "PCA (principal component analysis) plot for the samples.\n",
    "<img src=\"assets/salmon_GRCh38_samples_pca_plot.png\" style=\"height:500px\"/>\n",
    "\n",
    "The PCA analysis tries to capture the variance (find a projection from N dim to 2 dim that captures as much variance as possible.) One should look into the factors as well, to see which genes drive the PC1 and PC2 the most (biplot PCA). UMAP is a good alternative visualization and analysis technique. (In this mini problem it would be an overkill and misleading.)\n",
    "\n",
    "\n",
    "### Fold-change versus normalized mean counts\n",
    "<img src=\"assets/salmon_GRCh38_samples_ma_plot.png\" style=\"height:500px\"/>\n",
    "\n",
    "MA plots are more like a quality control plot. It gives an overview about the obtained fold changes and mean counts (expression). Tipycally, genes with lower expressions have high variance, which might lead to false positive associations. It also informs us about systematic biases (irregular shapes etc). The DESeq2 carried out a normalization to 'downweight' genes with low expression values by reducing their fold change. This also helps us to guess or adjust the cut-off scores (i.e. for fold change). \n",
    "Ideally, we are interested in 'highly' exprressed genes with high log2 fold-change value (less likely to be false positive hits). For more detailed description about the applied normalization see the DESeq2 paper.\n",
    "\n",
    "#### Vulcano plot\n",
    "<img src=\"assets/salmon_GRCh38_samples_vulcano_plot.png\" style=\"height:500px\"/>\n",
    "Vulcano plot is a scatter plot, where on y axes are the log p-values and the x axis is the fold change. This is one of the most important outputs of the analysis since it reveals the top significantly changed genes. Those genes with high fold change (positive or negative assocciation with the treatment) and 'high' significance (in that case the expression level is indirectly incorporated into the significance) are the most interesting ones. \n",
    "Here I applied a minimal statistical model JQ1 vs DMSO to compare the gene expression levels. The p-values were estimated with Wald statistics and were adjusted for multiple comparision. For the exact methods and parameters please see the attached notebooks.\n",
    "\n",
    "\n",
    "\n",
    "\n",
    "\n"
   ]
  },
  {
   "cell_type": "markdown",
   "id": "dcbef64f-7988-4310-99ca-bf03885f0d36",
   "metadata": {},
   "source": [
    "### Enrichment analysis\n",
    "Here I am going to evaluate the top differentially expressed genes by mapping them to gene ontology categories and KEGG pathways. For the gene ontology analaysis I use 'traditional' hypergeometric test for assessing the enrichment to GO categories. \n",
    "Another alternative approach is the gene set enrichment analysis, which takes into account all genes, not only the siginifant ones. Here I just use the KEGG pathways as examples, but there are many more classes of predefined gene sets (like cancer driver genes, hallmark genes, etc) \n",
    "\n",
    "### Gene ontology associations\n",
    "<img src=\"assets/salmon_GRCh38_encrichment_go.png\" style=\"width:1000px\"/>\n",
    "The main gene ontology terms that are associated with the treatments. These terms are related to replications and chromosome stability and rearrangement.\n",
    "\n",
    "### Top5 gene ontology category and the top DE genes\n",
    "<img src=\"assets/salmon_GRCh38_encrichment_go_gene.png\" style=\"width:1000\"/>\n",
    "\n",
    "\n",
    "### Gene ontology network\n",
    "<img src=\"assets/salmon_GRCh38_encrichment_go_network.png\" style=\"width:1000\"/>\n",
    "These plots show the relations between the terms. The clustering of the terms is based on the gene ontology. Only the top40 terms were considered. One can obtain that the terms are well clustered.\n",
    "\n"
   ]
  },
  {
   "cell_type": "markdown",
   "id": "22f4db21-9190-4f2b-9c0e-967e70c03362",
   "metadata": {},
   "source": [
    "# Summary\n"
   ]
  },
  {
   "cell_type": "markdown",
   "id": "e95bb7d9-3e71-4c7c-aa12-8bd0f3c254ce",
   "metadata": {},
   "source": [
    "In this small study the transcription profiles of JQ1 were calculated and identified with bioinformatics techniques. JQ1 is a BET bromodaim inhibitor and a good candidate as anti-cancer agent. BET family members influence the cell-cycle progression [11]. The above expression profiles and enrichment analysis is aligned with this information (chromosome organization related terms). \n",
    "As a subsequent task I would reanalyze not only these two samples but other ones as well. The original study is a small time-course study with available time points at 3, 12, 24 hours after the treatments. Emergence of resistance to cancer therapy is one of the most challenging issues. The project data also contains resistance cell-line transcriptomic information as well (The data is available under the accession [GSE63582](https://www.ncbi.nlm.nih.gov/geo/query/acc.cgi?acc=GSE63582)). \n",
    "The other research question is whether the new CHM13 reference genome provides new information and insights about the JQ1 treatments.\n"
   ]
  },
  {
   "cell_type": "markdown",
   "id": "3466f068-f39f-4a75-98f7-eb8c6a3ac010",
   "metadata": {},
   "source": [
    "# References\n"
   ]
  },
  {
   "cell_type": "raw",
   "id": "5270753e-edb6-4585-a6a5-b974a1d9883f",
   "metadata": {},
   "source": [
    "[1] Blankenberg, Daniel, et al. \"Galaxy: a web‐based genome analysis tool for experimentalists.\" Current protocols in molecular biology 89.1 (2010): 19-10\n",
    "\n",
    "[2] Köster, Johannes, and Sven Rahmann. \"Snakemake—a scalable bioinformatics workflow engine.\" Bioinformatics 28.19 (2012): 2520-2522.\n",
    "\n",
    "[3] Blankenberg, Daniel, et al. \"Galaxy: a web‐based genome analysis tool for experimentalists.\" Current protocols in molecular biology 89.1 (2010): 19-10\n",
    "\n",
    "[4] Wratten, Laura, Andreas Wilm, and Jonathan Göke. \"Reproducible, scalable, and shareable analysis pipelines with bioinformatics workflow managers.\" Nature methods 18.10 (2021): 1161-1168.\n",
    "\n",
    "[5] Nurk, Sergey, et al. \"The complete sequence of a human genome.\" Science 376.6588 (2022): 44-53.\n",
    "\n",
    "[6] Dobin, Alexander, et al. \"STAR: ultrafast universal RNA-seq aligner.\" Bioinformatics 29.1 (2013): 15-21.\n",
    "\n",
    "[7] Patro, Rob, et al. \"Salmon provides fast and bias-aware quantification of transcript expression.\" Nature methods 14.4 (2017): 417-419.\n",
    "\n",
    "[8]Robinson, Mark D., Davis J. McCarthy, and Gordon K. Smyth. \"edgeR: a Bioconductor package for differential expression analysis of digital gene expression data.\" Bioinformatics 26.1 (2010): 139-140.\n",
    "\n",
    "[9] Love, Michael I., Wolfgang Huber, and Simon Anders. \"Moderated estimation of fold change and dispersion for RNA-seq data with DESeq2.\" Genome biology 15.12 (2014): 1-21.\n",
    "\n",
    "[10] Shu, Shaokun, et al. \"Response and resistance to BET bromodomain inhibitors in triple-negative breast cancer.\" Nature 529.7586 (2016): 413-417.\n",
    "\n",
    "[11] Yang, Zhiyuan, Nanhai He, and Qiang Zhou. \"Brd4 recruits P-TEFb to chromosomes at late mitosis to promote G1 gene expression and cell cycle progression.\" Molecular and cellular biology 28.3 (2008): 967-976.\n",
    "APA\t\n",
    "\n",
    "[12] Schmid, Peter, et al. \"Event-free survival with pembrolizumab in early triple-negative breast cancer.\" New England Journal of Medicine 386.6 (2022): 556-567."
   ]
  },
  {
   "cell_type": "code",
   "execution_count": null,
   "id": "af1682a3-dd44-4e61-bcd0-81d3ba3d90e0",
   "metadata": {},
   "outputs": [],
   "source": []
  }
 ],
 "metadata": {
  "kernelspec": {
   "display_name": "Python 3 (ipykernel)",
   "language": "python",
   "name": "python3"
  },
  "language_info": {
   "codemirror_mode": {
    "name": "ipython",
    "version": 3
   },
   "file_extension": ".py",
   "mimetype": "text/x-python",
   "name": "python",
   "nbconvert_exporter": "python",
   "pygments_lexer": "ipython3",
   "version": "3.9.12"
  }
 },
 "nbformat": 4,
 "nbformat_minor": 5
}
